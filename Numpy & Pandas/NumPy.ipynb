{
 "cells": [
  {
   "cell_type": "markdown",
   "metadata": {},
   "source": [
    "# Numpy Workbook\n",
    "Workbook to get learn and get used to NumPy"
   ]
  },
  {
   "cell_type": "markdown",
   "metadata": {},
   "source": [
    "## Numpy Basics\n",
    "Some numpy basics to get stared"
   ]
  },
  {
   "cell_type": "markdown",
   "metadata": {},
   "source": [
    "### 1. To import NumPy\n"
   ]
  },
  {
   "cell_type": "code",
   "execution_count": null,
   "metadata": {},
   "outputs": [],
   "source": []
  },
  {
   "cell_type": "code",
   "execution_count": 11,
   "metadata": {},
   "outputs": [
    {
     "data": {
      "text/plain": [
       "'1.18.5'"
      ]
     },
     "execution_count": 11,
     "metadata": {},
     "output_type": "execute_result"
    }
   ],
   "source": [
    "import numpy as np\n",
    "np.__version__"
   ]
  },
  {
   "cell_type": "raw",
   "metadata": {},
   "source": []
  },
  {
   "cell_type": "markdown",
   "metadata": {},
   "source": [
    "### 2. To display all the contents of NumPy namespace & to check built-in documentaion"
   ]
  },
  {
   "cell_type": "markdown",
   "metadata": {},
   "source": [
    "press tab after \".\" --> np.\"tab\"<br><br>\n",
    "np?\n",
    "\n",
    " \n",
    "\n"
   ]
  },
  {
   "cell_type": "raw",
   "metadata": {},
   "source": []
  },
  {
   "cell_type": "markdown",
   "metadata": {},
   "source": [
    "### 3. Creating Arrays"
   ]
  },
  {
   "cell_type": "code",
   "execution_count": 14,
   "metadata": {},
   "outputs": [
    {
     "data": {
      "text/plain": [
       "array([1, 2, 3, 4, 5])"
      ]
     },
     "execution_count": 14,
     "metadata": {},
     "output_type": "execute_result"
    }
   ],
   "source": [
    "np.array([1,2,3,4,5])"
   ]
  },
  {
   "cell_type": "code",
   "execution_count": 16,
   "metadata": {},
   "outputs": [
    {
     "data": {
      "text/plain": [
       "array([1., 2., 3., 4., 5.])"
      ]
     },
     "execution_count": 16,
     "metadata": {},
     "output_type": "execute_result"
    }
   ],
   "source": [
    "#upcast\n",
    "np.array([1.0,2,3,4,5]) "
   ]
  },
  {
   "cell_type": "code",
   "execution_count": 18,
   "metadata": {},
   "outputs": [
    {
     "data": {
      "text/plain": [
       "array([1., 2., 3., 4.], dtype=float32)"
      ]
     },
     "execution_count": 18,
     "metadata": {},
     "output_type": "execute_result"
    }
   ],
   "source": [
    "np.array([1,2,3,4],dtype='float32')"
   ]
  },
  {
   "cell_type": "code",
   "execution_count": 23,
   "metadata": {},
   "outputs": [
    {
     "data": {
      "text/plain": [
       "array([[ 2,  3,  4,  5,  6,  7,  8,  9],\n",
       "       [ 4,  5,  6,  7,  8,  9, 10, 11],\n",
       "       [ 6,  7,  8,  9, 10, 11, 12, 13]])"
      ]
     },
     "execution_count": 23,
     "metadata": {},
     "output_type": "execute_result"
    }
   ],
   "source": [
    "#multidimensional array using list of lists\n",
    "np.array([range(i, i+8) for i in [2,4,6]]) "
   ]
  },
  {
   "cell_type": "raw",
   "metadata": {},
   "source": []
  },
  {
   "cell_type": "markdown",
   "metadata": {},
   "source": [
    "### 4. Creating Arrays from scratch"
   ]
  },
  {
   "cell_type": "code",
   "execution_count": 25,
   "metadata": {},
   "outputs": [
    {
     "data": {
      "text/plain": [
       "array([0, 0, 0, 0, 0, 0, 0, 0, 0, 0])"
      ]
     },
     "execution_count": 25,
     "metadata": {},
     "output_type": "execute_result"
    }
   ],
   "source": [
    "# Create a length-10 integer array filled with zeros\n",
    "np.zeros(10, dtype='int')"
   ]
  },
  {
   "cell_type": "code",
   "execution_count": 28,
   "metadata": {},
   "outputs": [
    {
     "data": {
      "text/plain": [
       "array([[1., 1., 1.],\n",
       "       [1., 1., 1.],\n",
       "       [1., 1., 1.],\n",
       "       [1., 1., 1.],\n",
       "       [1., 1., 1.],\n",
       "       [1., 1., 1.]])"
      ]
     },
     "execution_count": 28,
     "metadata": {},
     "output_type": "execute_result"
    }
   ],
   "source": [
    "#Create a 6x3 floating-point array filled with 1s\n",
    "np.ones((6,3), dtype='float')"
   ]
  },
  {
   "cell_type": "code",
   "execution_count": 30,
   "metadata": {},
   "outputs": [
    {
     "data": {
      "text/plain": [
       "array([[3.14, 3.14],\n",
       "       [3.14, 3.14],\n",
       "       [3.14, 3.14],\n",
       "       [3.14, 3.14],\n",
       "       [3.14, 3.14],\n",
       "       [3.14, 3.14],\n",
       "       [3.14, 3.14]])"
      ]
     },
     "execution_count": 30,
     "metadata": {},
     "output_type": "execute_result"
    }
   ],
   "source": [
    "# Create a 7x2 array filled with x\n",
    "x=3.14\n",
    "np.full((7,2),x)"
   ]
  },
  {
   "cell_type": "code",
   "execution_count": 43,
   "metadata": {},
   "outputs": [
    {
     "name": "stdout",
     "output_type": "stream",
     "text": [
      "[ 2  4  6  8 10 12 14 16 18]\n"
     ]
    },
    {
     "data": {
      "text/plain": [
       "array([ 2,  4,  6,  8, 10, 12, 14, 16, 18])"
      ]
     },
     "execution_count": 43,
     "metadata": {},
     "output_type": "execute_result"
    }
   ],
   "source": [
    "# Create an array filled with a linear sequence\n",
    "print(np.arange(2,20,2))\n",
    "\n",
    "#similar \n",
    "np.array([int(i) for i in range (2,20,2)])\n",
    "    "
   ]
  },
  {
   "cell_type": "code",
   "execution_count": 49,
   "metadata": {},
   "outputs": [
    {
     "data": {
      "text/plain": [
       "array([ 0.,  1.,  2.,  3.,  4.,  5.,  6.,  7.,  8.,  9., 10.])"
      ]
     },
     "execution_count": 49,
     "metadata": {},
     "output_type": "execute_result"
    }
   ],
   "source": [
    "#  Create an array of five values evenly spaced between 0 and 1\n",
    "np.linspace(0, 10, 11)"
   ]
  },
  {
   "cell_type": "code",
   "execution_count": 51,
   "metadata": {},
   "outputs": [
    {
     "data": {
      "text/plain": [
       "array([[0.89945312, 0.16425456, 0.0275315 ],\n",
       "       [0.2230939 , 0.75248412, 0.82473605],\n",
       "       [0.01537161, 0.73705487, 0.02937098]])"
      ]
     },
     "execution_count": 51,
     "metadata": {},
     "output_type": "execute_result"
    }
   ],
   "source": [
    "# Create a 3x3 array of uniformly distributed\n",
    "# random values between 0 and 1\n",
    "\n",
    "np.random.random((3,3))"
   ]
  },
  {
   "cell_type": "code",
   "execution_count": 52,
   "metadata": {},
   "outputs": [
    {
     "data": {
      "text/plain": [
       "array([[ 0.10275625,  0.31852535, -0.32010169],\n",
       "       [-1.03408889, -0.2825916 ,  0.87949865],\n",
       "       [-0.89852987, -1.15049306,  0.05810469]])"
      ]
     },
     "execution_count": 52,
     "metadata": {},
     "output_type": "execute_result"
    }
   ],
   "source": [
    "# Create a 3x3 array of normally distributed random values\n",
    "# with mean 0 and standard deviation 1\n",
    "np.random.normal(0, 1, (3, 3))"
   ]
  },
  {
   "cell_type": "code",
   "execution_count": 53,
   "metadata": {},
   "outputs": [
    {
     "data": {
      "text/plain": [
       "array([[4, 0, 2],\n",
       "       [8, 5, 8],\n",
       "       [1, 6, 4]])"
      ]
     },
     "execution_count": 53,
     "metadata": {},
     "output_type": "execute_result"
    }
   ],
   "source": [
    "# Create a 3x3 array of random integers in the interval [0, 10)\n",
    "np.random.randint(0, 10, (3, 3))"
   ]
  },
  {
   "cell_type": "code",
   "execution_count": 54,
   "metadata": {},
   "outputs": [
    {
     "data": {
      "text/plain": [
       "array([[1., 0., 0.],\n",
       "       [0., 1., 0.],\n",
       "       [0., 0., 1.]])"
      ]
     },
     "execution_count": 54,
     "metadata": {},
     "output_type": "execute_result"
    }
   ],
   "source": [
    "# Create a 3x3 identity matrix\n",
    "np.eye(3)"
   ]
  },
  {
   "cell_type": "code",
   "execution_count": null,
   "metadata": {},
   "outputs": [],
   "source": []
  },
  {
   "cell_type": "markdown",
   "metadata": {},
   "source": [
    "### Create an uninitialized array of three integers\n",
    "#### The values will be whatever happens to already exist at that  Standard NumPy data types\n",
    "Data type          Description <br>\n",
    "bool_              &emsp;&emsp;&emsp;&emsp;&emsp;Boolean (True or False) stored as a byte <br>\n",
    "int_               &emsp;&emsp;&emsp;&emsp;&emsp;&ensp;&nbsp;Default integer type (same as C long; normally either int64 or int32) <br>\n",
    "intc               &emsp;&emsp;&emsp;&emsp;&emsp;&ensp;&nbsp;Identical to C int (normally int32 or int64) <br>\n",
    "intp               &emsp;&emsp;&emsp;&emsp;&emsp;&ensp;Integer used for indexing (same as C ssize_t; normally either int32 or int64) <br>\n",
    "int8               &emsp;&emsp;&emsp;&emsp;&emsp;&ensp;Byte (–128 to 127) <br>\n",
    "int16              &emsp;&emsp;&emsp;&emsp;&emsp;Integer (–32768 to 32767) <br>\n",
    "int32              &emsp;&emsp;&emsp;&emsp;&emsp;Integer (–2147483648 to 2147483647) <br>\n",
    "int64              &emsp;&emsp;&emsp;&emsp;&emsp;Integer (–9223372036854775808 to 9223372036854775807) <br>\n",
    "uint8              &emsp;&emsp;&emsp;&emsp;&emsp;Unsigned integer (0 to 255) <br>\n",
    "uint16             &emsp;&emsp;&emsp;&emsp;&ensp;Unsigned integer (0 to 65535) <br>\n",
    "uint32             &emsp;&emsp;&emsp;&emsp;&ensp;Unsigned integer (0 to 4294967295) <br>\n",
    "uint64             &emsp;&emsp;&emsp;&emsp;&ensp;Unsigned integer (0 to 18446744073709551615) <br>\n",
    "float_             &emsp;&emsp;&emsp;&emsp;&emsp;Shorthand for float64 <br>\n",
    "float16            &emsp;&emsp;&emsp;&emsp;&nbsp;Half-precision float: sign bit, 5 bits exponent, 10 bits mantissa <br>\n",
    "float32            &emsp;&emsp;&emsp;&emsp;&nbsp;Single-precision float: sign bit, 8 bits exponent, 23 bits mantissa <br>\n",
    "float64            &emsp;&emsp;&emsp;&emsp;&nbsp;Double-precision float: sign bit, 11 bits exponent, 52 bits mantissa <br>\n",
    "complex_           &emsp;&emsp;&emsp;&nbsp;Shorthand for complex128 <br>\n",
    "complex64          &emsp;&emsp;&ensp;Complex number, represented by two 32-bit floats <br>\n",
    "complex128         &emsp;&emsp;Complex number, represented by two 64-bit floatsmemory location <br>"
   ]
  },
  {
   "cell_type": "raw",
   "metadata": {},
   "source": []
  },
  {
   "cell_type": "markdown",
   "metadata": {},
   "source": [
    "## 4. NumPy Array attributes"
   ]
  },
  {
   "cell_type": "code",
   "execution_count": 57,
   "metadata": {},
   "outputs": [],
   "source": [
    "#  seed for reproducibility\n",
    "np.random.seed(0)\n"
   ]
  },
  {
   "cell_type": "code",
   "execution_count": 63,
   "metadata": {},
   "outputs": [],
   "source": [
    "# arrays with elemnts between 0-10\n",
    "x1 = np.random.randint(10, size=6) # One-dimensional array\n",
    "x2 = np.random.randint(10, size=(3, 4)) # Two-dimensional array\n",
    "x3 = np.random.randint(10, size=(3, 4, 5)) # Three-dimensional array\n"
   ]
  },
  {
   "cell_type": "markdown",
   "metadata": {},
   "source": [
    "#### 1. x.dim - To check dimensions \n",
    "#### 2. x.shape - To check shape \n",
    "#### 3. x.size - To check size "
   ]
  },
  {
   "cell_type": "code",
   "execution_count": 78,
   "metadata": {},
   "outputs": [
    {
     "name": "stdout",
     "output_type": "stream",
     "text": [
      "[8 5 4 7 4 1]\n",
      "Dimensions -  1\n",
      "Shape -  (6,)\n",
      "Size -  6\n"
     ]
    }
   ],
   "source": [
    "print(x1)\n",
    "print(\"Dimensions - \",x1.ndim)\n",
    "print(\"Shape - \",x1.shape)\n",
    "print(\"Size - \",x1.size)"
   ]
  },
  {
   "cell_type": "code",
   "execution_count": 79,
   "metadata": {},
   "outputs": [
    {
     "name": "stdout",
     "output_type": "stream",
     "text": [
      "[[3 3 9 2]\n",
      " [5 2 3 5]\n",
      " [7 2 7 1]]\n",
      "Dimensions -  2\n",
      "Shape -  (3, 4)\n",
      "Size -  12\n"
     ]
    }
   ],
   "source": [
    "print(x2)\n",
    "print(\"Dimensions - \",x2.ndim)\n",
    "print(\"Shape - \",x2.shape)\n",
    "print(\"Size - \",x2.size)"
   ]
  },
  {
   "cell_type": "code",
   "execution_count": 76,
   "metadata": {},
   "outputs": [
    {
     "name": "stdout",
     "output_type": "stream",
     "text": [
      "[[[6 5 0 0 3]\n",
      "  [1 9 9 6 6]\n",
      "  [7 8 8 7 0]\n",
      "  [8 6 8 9 8]]\n",
      "\n",
      " [[3 6 1 7 4]\n",
      "  [9 2 0 8 2]\n",
      "  [7 8 4 4 1]\n",
      "  [7 6 9 4 1]]\n",
      "\n",
      " [[5 9 7 1 3]\n",
      "  [5 7 3 6 6]\n",
      "  [7 9 1 9 6]\n",
      "  [0 3 8 4 1]]]\n",
      "Dimensions -  3\n",
      "Shape -  (3, 4, 5)\n",
      "Size -  60\n"
     ]
    }
   ],
   "source": [
    "print(x3)\n",
    "print(\"Dimensions - \",x3.ndim)\n",
    "print(\"Shape - \",x3.shape)\n",
    "print(\"\",x3.size)"
   ]
  },
  {
   "cell_type": "code",
   "execution_count": null,
   "metadata": {},
   "outputs": [],
   "source": []
  }
 ],
 "metadata": {
  "kernelspec": {
   "display_name": "Python 3",
   "language": "python",
   "name": "python3"
  },
  "language_info": {
   "codemirror_mode": {
    "name": "ipython",
    "version": 3
   },
   "file_extension": ".py",
   "mimetype": "text/x-python",
   "name": "python",
   "nbconvert_exporter": "python",
   "pygments_lexer": "ipython3",
   "version": "3.7.7"
  }
 },
 "nbformat": 4,
 "nbformat_minor": 4
}
